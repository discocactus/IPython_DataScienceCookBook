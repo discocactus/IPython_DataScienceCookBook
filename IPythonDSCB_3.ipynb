{
 "cells": [
  {
   "cell_type": "code",
   "execution_count": null,
   "metadata": {
    "collapsed": true
   },
   "outputs": [],
   "source": [
    "# chapter 3-1"
   ]
  },
  {
   "cell_type": "code",
   "execution_count": null,
   "metadata": {
    "collapsed": true
   },
   "outputs": [],
   "source": [
    "import time\n",
    "from IPython.display import clear_output\n",
    "from ipythonblocks import BlockGrid, colors"
   ]
  },
  {
   "cell_type": "code",
   "execution_count": null,
   "metadata": {
    "collapsed": true
   },
   "outputs": [],
   "source": [
    "grid = BlockGrid(width=5, height=5,\n",
    "                            fill=colors['Purple'])\n",
    "grid.show()"
   ]
  },
  {
   "cell_type": "code",
   "execution_count": null,
   "metadata": {
    "collapsed": true
   },
   "outputs": [],
   "source": [
    "grid[0,0] = colors['Lime']\n",
    "grid[-1,0] = colors['Lime']\n",
    "grid[:,-1] = colors['Lime']\n",
    "grid.show()"
   ]
  },
  {
   "cell_type": "code",
   "execution_count": null,
   "metadata": {
    "collapsed": true
   },
   "outputs": [],
   "source": [
    "n = 5\n",
    "grid = BlockGrid(width=2*n+1,\n",
    "                            height=2*n+1,\n",
    "                            fill=colors['White'])\n",
    "A = grid[n+1:,:n]\n",
    "B = grid[:n,n+1:]\n",
    "C = grid[n+1:,n+1:]\n",
    "A[:,:] = colors['Cyan']\n",
    "B[:,:] = colors['Lime']\n",
    "C[:,:] = colors['Yellow']\n",
    "grid.show()"
   ]
  },
  {
   "cell_type": "code",
   "execution_count": null,
   "metadata": {
    "collapsed": true
   },
   "outputs": [],
   "source": [
    "for i in range(n):\n",
    "    for j in range(n):\n",
    "        # We reset the matrix colors.\n",
    "        A[:,:] = colors['Cyan']\n",
    "        B[:,:] = colors['Lime']\n",
    "        C[:,:] = colors['Yellow']\n",
    "        # We highlight the adequate rows and columns in red.\n",
    "        A[i,:] = colors['Red']\n",
    "        B[:,j] = colors['Red']\n",
    "        C[i,j] = colors['Red']\n",
    "        # We animate the grid in the loop.\n",
    "        clear_output()\n",
    "        grid.show()\n",
    "        time.sleep(0.25)"
   ]
  },
  {
   "cell_type": "code",
   "execution_count": null,
   "metadata": {
    "collapsed": true
   },
   "outputs": [],
   "source": [
    "from PIL import Image\n",
    "imdata = Image.open('data/photo.jpg').getdata()"
   ]
  },
  {
   "cell_type": "code",
   "execution_count": null,
   "metadata": {
    "collapsed": true
   },
   "outputs": [],
   "source": [
    "width, height = imdata.size\n",
    "grid = BlockGrid(width=width, height=height,\n",
    "                            block_size=4, lines_on=False)\n",
    "for block, rgb in zip(grid, imdata):\n",
    "    block.rgb = rgb\n",
    "grid.show()"
   ]
  },
  {
   "cell_type": "code",
   "execution_count": null,
   "metadata": {
    "collapsed": true
   },
   "outputs": [],
   "source": [
    "# chapter 3-5"
   ]
  },
  {
   "cell_type": "code",
   "execution_count": 1,
   "metadata": {
    "collapsed": true
   },
   "outputs": [],
   "source": [
    "import numpy as np\n",
    "import os\n",
    "from IPython.display import (Audio, display,\n",
    "                            clear_output)\n",
    "# from IPython.html import widgets\n",
    "import ipywidgets\n",
    "from functools import partial"
   ]
  },
  {
   "cell_type": "code",
   "execution_count": 2,
   "metadata": {
    "collapsed": true
   },
   "outputs": [],
   "source": [
    "dir = 'data/synth'"
   ]
  },
  {
   "cell_type": "code",
   "execution_count": 3,
   "metadata": {
    "collapsed": true
   },
   "outputs": [],
   "source": [
    "# This is the list of notes.\n",
    "notes = 'C,C#,D,D#,E,E#,F,G,G#,A,A#,B,B#C' .split(',')"
   ]
  },
  {
   "cell_type": "code",
   "execution_count": 4,
   "metadata": {
    "collapsed": true
   },
   "outputs": [],
   "source": [
    "def play(note, octave=0):\n",
    "    \"\"\"This function displays an HTML Audio element\n",
    "    that plays automatically when it appears.\"\"\"\n",
    "    f = os.path.join(dir,\n",
    "                    \"piano_{i}.mp3\".format(i=note+12*octave))\n",
    "    clear_output()\n",
    "    display(Audio(filename=f, autoplay=True))"
   ]
  },
  {
   "cell_type": "code",
   "execution_count": 5,
   "metadata": {
    "collapsed": true
   },
   "outputs": [],
   "source": [
    "# piano = widgets.ContainerWidget()\n",
    "piano = ipywidgets.HBox()\n",
    "# Ref: https://ipython.org/ipython-doc/3/whatsnew/version3_widget_migration.html"
   ]
  },
  {
   "cell_type": "code",
   "execution_count": 6,
   "metadata": {},
   "outputs": [
    {
     "data": {
      "application/vnd.jupyter.widget-view+json": {
       "model_id": "dc6557c528b94718923c2ade88d9b4b9"
      }
     },
     "metadata": {},
     "output_type": "display_data"
    }
   ],
   "source": [
    "# octave_slider = widgets.IntSliderWidget()\n",
    "octave_slider = ipywidgets.IntSlider()\n",
    "octave_slider.max = 1\n",
    "octave_slider"
   ]
  },
  {
   "cell_type": "code",
   "execution_count": 7,
   "metadata": {
    "collapsed": true
   },
   "outputs": [],
   "source": [
    "buttons = []\n",
    "for i, note in enumerate(notes):\n",
    "    # button = widgets.ButtonWidget(description=note)\n",
    "    button = ipywidgets.Button(description=note)\n",
    "    \n",
    "    def on_button_clicked(i, _):\n",
    "        play(i+1, octave_slider.value)\n",
    "        \n",
    "    button.on_click(partial(on_button_clicked, i))\n",
    "    \n",
    "#    button.set_css({'width': '30px', \n",
    "#                    'height': '60px',\n",
    "#                   'padding': '0',\n",
    "#                    'color': ('black', \n",
    "#                              'white')['#' in note],\n",
    "#                    'background': ('white', 'black')['#' in note],\n",
    "#                    'border': '1px solid black',\n",
    "#                    'float': 'left'})\n",
    "    button.width = '30px'\n",
    "    button.height = '60px'\n",
    "    button.padding = 0\n",
    "    button.color = ('black', 'white')['#' in note]\n",
    "    button.background_color = ('white', 'black')['#' in note]\n",
    "    button.border_width = '1px'\n",
    "    button.border_style = 'solid'\n",
    "    button.border_color = 'black'\n",
    "    \n",
    "    buttons.append(button)"
   ]
  },
  {
   "cell_type": "code",
   "execution_count": 8,
   "metadata": {
    "collapsed": true
   },
   "outputs": [],
   "source": [
    "piano.children = buttons"
   ]
  },
  {
   "cell_type": "code",
   "execution_count": 9,
   "metadata": {
    "collapsed": true
   },
   "outputs": [],
   "source": [
    "# container = widgets.ContainerWidget()\n",
    "container = ipywidgets.Box()\n",
    "container.children = [octave_slider,\n",
    "                     piano]"
   ]
  },
  {
   "cell_type": "code",
   "execution_count": 10,
   "metadata": {},
   "outputs": [
    {
     "data": {
      "application/vnd.jupyter.widget-view+json": {
       "model_id": "f0a719d71bbb40fda8e1e4cfd5553d81"
      }
     },
     "metadata": {},
     "output_type": "display_data"
    }
   ],
   "source": [
    "display(container)\n",
    "# piano.remove_class('vbox')\n",
    "# piano.add_class('hbox')"
   ]
  },
  {
   "cell_type": "code",
   "execution_count": null,
   "metadata": {
    "collapsed": true
   },
   "outputs": [],
   "source": []
  }
 ],
 "metadata": {
  "kernelspec": {
   "display_name": "Python 3",
   "language": "python",
   "name": "python3"
  },
  "language_info": {
   "codemirror_mode": {
    "name": "ipython",
    "version": 3
   },
   "file_extension": ".py",
   "mimetype": "text/x-python",
   "name": "python",
   "nbconvert_exporter": "python",
   "pygments_lexer": "ipython3",
   "version": "3.6.1"
  }
 },
 "nbformat": 4,
 "nbformat_minor": 2
}

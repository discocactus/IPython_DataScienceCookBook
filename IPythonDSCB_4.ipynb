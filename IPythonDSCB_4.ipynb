{
 "cells": [
  {
   "cell_type": "code",
   "execution_count": null,
   "metadata": {
    "collapsed": true
   },
   "outputs": [],
   "source": [
    "# chapter 4-1 IPythonの実行時間計測"
   ]
  },
  {
   "cell_type": "code",
   "execution_count": 3,
   "metadata": {
    "collapsed": true
   },
   "outputs": [],
   "source": [
    "n=100000"
   ]
  },
  {
   "cell_type": "code",
   "execution_count": 4,
   "metadata": {
    "collapsed": false
   },
   "outputs": [
    {
     "name": "stdout",
     "output_type": "stream",
     "text": [
      "10 loops, best of 3: 52.5 ms per loop\n"
     ]
    }
   ],
   "source": [
    "%timeit sum([1. / i**2 for i in range(1, n)])"
   ]
  },
  {
   "cell_type": "code",
   "execution_count": 5,
   "metadata": {
    "collapsed": false
   },
   "outputs": [
    {
     "name": "stdout",
     "output_type": "stream",
     "text": [
      "10 loops, best of 3: 49 ms per loop\n"
     ]
    }
   ],
   "source": [
    "%%timeit s = 0.\n",
    "for i in range(1, n):\n",
    "    s += 1. / i**2"
   ]
  },
  {
   "cell_type": "code",
   "execution_count": 6,
   "metadata": {
    "collapsed": true
   },
   "outputs": [],
   "source": [
    "import numpy as np"
   ]
  },
  {
   "cell_type": "code",
   "execution_count": 8,
   "metadata": {
    "collapsed": false
   },
   "outputs": [
    {
     "name": "stdout",
     "output_type": "stream",
     "text": [
      "1000 loops, best of 3: 567 µs per loop\n"
     ]
    }
   ],
   "source": [
    "%timeit np.sum(1. / np.arange(1., n) ** 2)"
   ]
  },
  {
   "cell_type": "code",
   "execution_count": 9,
   "metadata": {
    "collapsed": true
   },
   "outputs": [],
   "source": [
    "# chapter 4-2 cProfileとIPythonによるコードプロファイル"
   ]
  },
  {
   "cell_type": "code",
   "execution_count": 11,
   "metadata": {
    "collapsed": false
   },
   "outputs": [],
   "source": [
    "import numpy as np\n",
    "import matplotlib.pyplot as plt"
   ]
  },
  {
   "cell_type": "code",
   "execution_count": 12,
   "metadata": {
    "collapsed": true
   },
   "outputs": [],
   "source": [
    "%matplotlib inline"
   ]
  },
  {
   "cell_type": "code",
   "execution_count": 13,
   "metadata": {
    "collapsed": true
   },
   "outputs": [],
   "source": [
    "def step(*shape):\n",
    "    # +1と-1の値をランダムに並べたn-vectorを作成\n",
    "    return 2 * (np.random.random_sample(shape) < .5) -1"
   ]
  },
  {
   "cell_type": "code",
   "execution_count": 17,
   "metadata": {
    "collapsed": false
   },
   "outputs": [
    {
     "name": "stdout",
     "output_type": "stream",
     "text": [
      " \n",
      "*** Profile printout saved to text file 'prun0'. \n"
     ]
    }
   ],
   "source": [
    "%%prun -s cumulative -q -l 10 -T prun0\n",
    "n = 10000\n",
    "iterations = 50\n",
    "x = np.cumsum(step(iterations, n), axis=0)\n",
    "bins = np.arange(-30, 30, 1)\n",
    "y = np.vstack([np.histogram(x[i,:], bins)[0] for i in range(iterations)])"
   ]
  },
  {
   "cell_type": "code",
   "execution_count": 18,
   "metadata": {
    "collapsed": false
   },
   "outputs": [
    {
     "name": "stdout",
     "output_type": "stream",
     "text": [
      "         3912 function calls in 0.071 seconds\n",
      "\n",
      "   Ordered by: cumulative time\n",
      "   List reduced from 47 to 10 due to restriction <10>\n",
      "\n",
      "   ncalls  tottime  percall  cumtime  percall filename:lineno(function)\n",
      "        1    0.000    0.000    0.071    0.071 {built-in method builtins.exec}\n",
      "        1    0.000    0.000    0.071    0.071 <string>:2(<module>)\n",
      "        1    0.004    0.004    0.046    0.046 <ipython-input-13-33db779c7ab4>:1(step)\n",
      "        1    0.042    0.042    0.042    0.042 {method 'random_sample' of 'mtrand.RandomState' objects}\n",
      "        1    0.000    0.000    0.021    0.021 <string>:6(<listcomp>)\n",
      "       50    0.003    0.000    0.021    0.000 function_base.py:267(histogram)\n",
      "       50    0.000    0.000    0.011    0.000 fromnumeric.py:717(sort)\n",
      "       50    0.011    0.000    0.011    0.000 {method 'sort' of 'numpy.ndarray' objects}\n",
      "        1    0.000    0.000    0.004    0.004 fromnumeric.py:2067(cumsum)\n",
      "        1    0.004    0.004    0.004    0.004 {method 'cumsum' of 'numpy.ndarray' objects}\n"
     ]
    }
   ],
   "source": [
    "print(open('prun0', 'r').read())"
   ]
  },
  {
   "cell_type": "code",
   "execution_count": 19,
   "metadata": {
    "collapsed": false
   },
   "outputs": [
    {
     "name": "stdout",
     "output_type": "stream",
     "text": [
      " \n",
      "*** Profile printout saved to text file 'prun0'. \n"
     ]
    }
   ],
   "source": [
    "%%prun -s cumulative -q -l 10 -T prun0\n",
    "n = 10000\n",
    "iterations = 500\n",
    "x = np.cumsum(step(iterations, n), axis=0)\n",
    "bins = np.arange(-30, 30, 1)\n",
    "y = np.vstack([np.histogram(x[i,:], bins)[0] for i in range(iterations)])"
   ]
  },
  {
   "cell_type": "code",
   "execution_count": 20,
   "metadata": {
    "collapsed": false
   },
   "outputs": [
    {
     "name": "stdout",
     "output_type": "stream",
     "text": [
      "         39012 function calls in 0.502 seconds\n",
      "\n",
      "   Ordered by: cumulative time\n",
      "   List reduced from 47 to 10 due to restriction <10>\n",
      "\n",
      "   ncalls  tottime  percall  cumtime  percall filename:lineno(function)\n",
      "        1    0.000    0.000    0.502    0.502 {built-in method builtins.exec}\n",
      "        1    0.004    0.004    0.502    0.502 <string>:2(<module>)\n",
      "        1    0.002    0.002    0.230    0.230 <string>:6(<listcomp>)\n",
      "      500    0.024    0.000    0.228    0.000 function_base.py:267(histogram)\n",
      "      500    0.001    0.000    0.140    0.000 fromnumeric.py:717(sort)\n",
      "        1    0.052    0.052    0.140    0.140 <ipython-input-13-33db779c7ab4>:1(step)\n",
      "      500    0.135    0.000    0.135    0.000 {method 'sort' of 'numpy.ndarray' objects}\n",
      "        1    0.000    0.000    0.126    0.126 fromnumeric.py:2067(cumsum)\n",
      "        1    0.126    0.126    0.126    0.126 {method 'cumsum' of 'numpy.ndarray' objects}\n",
      "        1    0.087    0.087    0.087    0.087 {method 'random_sample' of 'mtrand.RandomState' objects}\n"
     ]
    }
   ],
   "source": [
    "print(open('prun0', 'r').read())"
   ]
  },
  {
   "cell_type": "code",
   "execution_count": 21,
   "metadata": {
    "collapsed": true
   },
   "outputs": [],
   "source": [
    "# 4-3 line_profilerを使った行単位のコードプロファイル"
   ]
  },
  {
   "cell_type": "code",
   "execution_count": 22,
   "metadata": {
    "collapsed": false
   },
   "outputs": [
    {
     "name": "stdout",
     "output_type": "stream",
     "text": [
      "Collecting line_profiler\n",
      "  Downloading line_profiler-2.0.tar.gz (68kB)\n",
      "\u001b[K    100% |████████████████████████████████| 71kB 1.0MB/s ta 0:00:011\n",
      "\u001b[?25hRequirement already satisfied: IPython>=0.13 in /Users/Really/.pyenv/versions/anaconda3-4.3.1/lib/python3.6/site-packages (from line_profiler)\n",
      "Building wheels for collected packages: line-profiler\n",
      "  Running setup.py bdist_wheel for line-profiler ... \u001b[?25l-\b \b\\\b \b|\b \b/\b \b-\b \b\\\b \bdone\n",
      "\u001b[?25h  Stored in directory: /Users/Really/Library/Caches/pip/wheels/a8/aa/3b/1d4570cc467313caec92c9d51e6543b598b835ab95cfe9c726\n",
      "Successfully built line-profiler\n",
      "Installing collected packages: line-profiler\n",
      "Successfully installed line-profiler-2.0\n"
     ]
    }
   ],
   "source": [
    "# line_profilerのインストール\n",
    "# !pip install line_profiler"
   ]
  },
  {
   "cell_type": "code",
   "execution_count": 23,
   "metadata": {
    "collapsed": true
   },
   "outputs": [],
   "source": [
    "import numpy as np"
   ]
  },
  {
   "cell_type": "code",
   "execution_count": 25,
   "metadata": {
    "collapsed": false
   },
   "outputs": [],
   "source": [
    "%load_ext line_profiler"
   ]
  },
  {
   "cell_type": "code",
   "execution_count": 39,
   "metadata": {
    "collapsed": false
   },
   "outputs": [
    {
     "name": "stdout",
     "output_type": "stream",
     "text": [
      "Overwriting simulation.py\n"
     ]
    }
   ],
   "source": [
    "%%writefile simulation.py\n",
    "import numpy as np\n",
    "def step(*shape):\n",
    "    # +1と-1の値をランダムに並べたn-vectorを作成\n",
    "    return 2 * (np.random.random_sample(shape) < .5) -1\n",
    "def simulate(iterations, n = 10000):\n",
    "    s = step(iterations, n)\n",
    "    x = np.cumsum(s, axis=0)\n",
    "    bins = np.arange(-30, 30, 1)\n",
    "    y = np.vstack([np.histogram(x[i,:], bins)[0] for i in range(iterations)])\n",
    "    return y"
   ]
  },
  {
   "cell_type": "code",
   "execution_count": 40,
   "metadata": {
    "collapsed": false
   },
   "outputs": [],
   "source": [
    "import simulation"
   ]
  },
  {
   "cell_type": "code",
   "execution_count": 41,
   "metadata": {
    "collapsed": false
   },
   "outputs": [
    {
     "name": "stdout",
     "output_type": "stream",
     "text": [
      "\n",
      "*** Profile printout saved to text file 'lprof0'. \n"
     ]
    }
   ],
   "source": [
    "%lprun -T lprof0 -f simulation.simulate simulation.simulate(50)"
   ]
  },
  {
   "cell_type": "code",
   "execution_count": 42,
   "metadata": {
    "collapsed": false,
    "scrolled": true
   },
   "outputs": [
    {
     "name": "stdout",
     "output_type": "stream",
     "text": [
      "Timer unit: 1e-06 s\n",
      "\n",
      "Total time: 0.03854 s\n",
      "File: /Users/Really/_IPython_Notebook/simulation.py\n",
      "Function: simulate at line 5\n",
      "\n",
      "Line #      Hits         Time  Per Hit   % Time  Line Contents\n",
      "==============================================================\n",
      "     5                                           def simulate(iterations, n = 10000):\n",
      "     6         1         9694   9694.0     25.2      s = step(iterations, n)\n",
      "     7         1         2264   2264.0      5.9      x = np.cumsum(s, axis=0)\n",
      "     8         1           27     27.0      0.1      bins = np.arange(-30, 30, 1)\n",
      "     9         1            5      5.0      0.0      y = np.vstack([np.histogram(x[i,:], bins)[0] for i in range(iterations)])\n",
      "    10         1        26548  26548.0     68.9      return y\n"
     ]
    }
   ],
   "source": [
    "print(open('lprof0', 'r').read())"
   ]
  },
  {
   "cell_type": "code",
   "execution_count": 43,
   "metadata": {
    "collapsed": false
   },
   "outputs": [
    {
     "name": "stdout",
     "output_type": "stream",
     "text": [
      "\n",
      "*** Profile printout saved to text file 'lprof0'. \n"
     ]
    }
   ],
   "source": [
    "%lprun -T lprof0 -f simulation.simulate simulation.simulate(500)"
   ]
  },
  {
   "cell_type": "code",
   "execution_count": 44,
   "metadata": {
    "collapsed": false
   },
   "outputs": [
    {
     "name": "stdout",
     "output_type": "stream",
     "text": [
      "Timer unit: 1e-06 s\n",
      "\n",
      "Total time: 0.523659 s\n",
      "File: /Users/Really/_IPython_Notebook/simulation.py\n",
      "Function: simulate at line 5\n",
      "\n",
      "Line #      Hits         Time  Per Hit   % Time  Line Contents\n",
      "==============================================================\n",
      "     5                                           def simulate(iterations, n = 10000):\n",
      "     6         1       117290 117290.0     22.4      s = step(iterations, n)\n",
      "     7         1       145507 145507.0     27.8      x = np.cumsum(s, axis=0)\n",
      "     8         1           22     22.0      0.0      bins = np.arange(-30, 30, 1)\n",
      "     9         1            3      3.0      0.0      y = np.vstack([np.histogram(x[i,:], bins)[0] for i in range(iterations)])\n",
      "    10         1       260835 260835.0     49.8      return y\n"
     ]
    }
   ],
   "source": [
    "print(open('lprof0', 'r').read())"
   ]
  },
  {
   "cell_type": "code",
   "execution_count": 45,
   "metadata": {
    "collapsed": true
   },
   "outputs": [],
   "source": [
    "# chapter 4-4 memory_profilerを使ったメモリ使用状況のプロファイル"
   ]
  },
  {
   "cell_type": "code",
   "execution_count": null,
   "metadata": {
    "collapsed": true
   },
   "outputs": [],
   "source": []
  }
 ],
 "metadata": {
  "kernelspec": {
   "display_name": "Python 3",
   "language": "python",
   "name": "python3"
  },
  "language_info": {
   "codemirror_mode": {
    "name": "ipython",
    "version": 3
   },
   "file_extension": ".py",
   "mimetype": "text/x-python",
   "name": "python",
   "nbconvert_exporter": "python",
   "pygments_lexer": "ipython3",
   "version": "3.6.0"
  }
 },
 "nbformat": 4,
 "nbformat_minor": 2
}

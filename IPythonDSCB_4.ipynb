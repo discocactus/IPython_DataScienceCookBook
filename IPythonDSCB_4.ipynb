{
 "cells": [
  {
   "cell_type": "code",
   "execution_count": null,
   "metadata": {
    "collapsed": true
   },
   "outputs": [],
   "source": [
    "# chapter 4-1 IPythonの実行時間計測"
   ]
  },
  {
   "cell_type": "code",
   "execution_count": null,
   "metadata": {
    "collapsed": true
   },
   "outputs": [],
   "source": [
    "n=100000"
   ]
  },
  {
   "cell_type": "code",
   "execution_count": null,
   "metadata": {
    "collapsed": false
   },
   "outputs": [],
   "source": [
    "%timeit sum([1. / i**2 for i in range(1, n)])"
   ]
  },
  {
   "cell_type": "code",
   "execution_count": null,
   "metadata": {
    "collapsed": false
   },
   "outputs": [],
   "source": [
    "%%timeit s = 0.\n",
    "for i in range(1, n):\n",
    "    s += 1. / i**2"
   ]
  },
  {
   "cell_type": "code",
   "execution_count": null,
   "metadata": {
    "collapsed": true
   },
   "outputs": [],
   "source": [
    "import numpy as np"
   ]
  },
  {
   "cell_type": "code",
   "execution_count": null,
   "metadata": {
    "collapsed": false
   },
   "outputs": [],
   "source": [
    "%timeit np.sum(1. / np.arange(1., n) ** 2)"
   ]
  },
  {
   "cell_type": "code",
   "execution_count": null,
   "metadata": {
    "collapsed": true
   },
   "outputs": [],
   "source": [
    "# chapter 4-2 cProfileとIPythonによるコードプロファイル"
   ]
  },
  {
   "cell_type": "code",
   "execution_count": null,
   "metadata": {
    "collapsed": false
   },
   "outputs": [],
   "source": [
    "import numpy as np\n",
    "import matplotlib.pyplot as plt"
   ]
  },
  {
   "cell_type": "code",
   "execution_count": null,
   "metadata": {
    "collapsed": true
   },
   "outputs": [],
   "source": [
    "%matplotlib inline"
   ]
  },
  {
   "cell_type": "code",
   "execution_count": null,
   "metadata": {
    "collapsed": true
   },
   "outputs": [],
   "source": [
    "def step(*shape):\n",
    "    # +1と-1の値をランダムに並べたn-vectorを作成\n",
    "    return 2 * (np.random.random_sample(shape) < .5) -1"
   ]
  },
  {
   "cell_type": "code",
   "execution_count": null,
   "metadata": {
    "collapsed": false
   },
   "outputs": [],
   "source": [
    "%%prun -s cumulative -q -l 10 -T prun0\n",
    "n = 10000\n",
    "iterations = 50\n",
    "x = np.cumsum(step(iterations, n), axis=0)\n",
    "bins = np.arange(-30, 30, 1)\n",
    "y = np.vstack([np.histogram(x[i,:], bins)[0] for i in range(iterations)])"
   ]
  },
  {
   "cell_type": "code",
   "execution_count": null,
   "metadata": {
    "collapsed": false
   },
   "outputs": [],
   "source": [
    "print(open('prun0', 'r').read())"
   ]
  },
  {
   "cell_type": "code",
   "execution_count": null,
   "metadata": {
    "collapsed": false
   },
   "outputs": [],
   "source": [
    "%%prun -s cumulative -q -l 10 -T prun0\n",
    "n = 10000\n",
    "iterations = 500\n",
    "x = np.cumsum(step(iterations, n), axis=0)\n",
    "bins = np.arange(-30, 30, 1)\n",
    "y = np.vstack([np.histogram(x[i,:], bins)[0] for i in range(iterations)])"
   ]
  },
  {
   "cell_type": "code",
   "execution_count": null,
   "metadata": {
    "collapsed": false
   },
   "outputs": [],
   "source": [
    "print(open('prun0', 'r').read())"
   ]
  },
  {
   "cell_type": "code",
   "execution_count": null,
   "metadata": {
    "collapsed": true
   },
   "outputs": [],
   "source": [
    "# 4-3 line_profilerを使った行単位のコードプロファイル"
   ]
  },
  {
   "cell_type": "code",
   "execution_count": null,
   "metadata": {
    "collapsed": false
   },
   "outputs": [],
   "source": [
    "# line_profilerのインストール\n",
    "# !pip install line_profiler"
   ]
  },
  {
   "cell_type": "code",
   "execution_count": null,
   "metadata": {
    "collapsed": true
   },
   "outputs": [],
   "source": [
    "import numpy as np"
   ]
  },
  {
   "cell_type": "code",
   "execution_count": null,
   "metadata": {
    "collapsed": false
   },
   "outputs": [],
   "source": [
    "%load_ext line_profiler"
   ]
  },
  {
   "cell_type": "code",
   "execution_count": null,
   "metadata": {
    "collapsed": false
   },
   "outputs": [],
   "source": [
    "%%writefile simulation.py\n",
    "import numpy as np\n",
    "def step(*shape):\n",
    "    # +1と-1の値をランダムに並べたn-vectorを作成\n",
    "    return 2 * (np.random.random_sample(shape) < .5) -1\n",
    "def simulate(iterations, n = 10000):\n",
    "    s = step(iterations, n)\n",
    "    x = np.cumsum(s, axis=0)\n",
    "    bins = np.arange(-30, 30, 1)\n",
    "    y = np.vstack([np.histogram(x[i,:], bins)[0] for i in range(iterations)])\n",
    "    return y"
   ]
  },
  {
   "cell_type": "code",
   "execution_count": null,
   "metadata": {
    "collapsed": false
   },
   "outputs": [],
   "source": [
    "import simulation"
   ]
  },
  {
   "cell_type": "code",
   "execution_count": null,
   "metadata": {
    "collapsed": false
   },
   "outputs": [],
   "source": [
    "%lprun -T lprof0 -f simulation.simulate simulation.simulate(50)"
   ]
  },
  {
   "cell_type": "code",
   "execution_count": null,
   "metadata": {
    "collapsed": false,
    "scrolled": true
   },
   "outputs": [],
   "source": [
    "print(open('lprof0', 'r').read())"
   ]
  },
  {
   "cell_type": "code",
   "execution_count": null,
   "metadata": {
    "collapsed": false
   },
   "outputs": [],
   "source": [
    "%lprun -T lprof0 -f simulation.simulate simulation.simulate(500)"
   ]
  },
  {
   "cell_type": "code",
   "execution_count": null,
   "metadata": {
    "collapsed": false
   },
   "outputs": [],
   "source": [
    "print(open('lprof0', 'r').read())"
   ]
  },
  {
   "cell_type": "code",
   "execution_count": null,
   "metadata": {
    "collapsed": true
   },
   "outputs": [],
   "source": []
  },
  {
   "cell_type": "code",
   "execution_count": 1,
   "metadata": {
    "collapsed": true
   },
   "outputs": [],
   "source": [
    "# chapter 4-4 memory_profilerを使ったメモリ使用状況のプロファイル"
   ]
  },
  {
   "cell_type": "code",
   "execution_count": null,
   "metadata": {
    "collapsed": true
   },
   "outputs": [],
   "source": []
  },
  {
   "cell_type": "code",
   "execution_count": 2,
   "metadata": {
    "collapsed": false
   },
   "outputs": [],
   "source": [
    "# memory_profilerのインストール\n",
    "# !pip install memory_profiler"
   ]
  },
  {
   "cell_type": "code",
   "execution_count": 3,
   "metadata": {
    "collapsed": true
   },
   "outputs": [],
   "source": [
    "import simulation"
   ]
  },
  {
   "cell_type": "code",
   "execution_count": 4,
   "metadata": {
    "collapsed": false
   },
   "outputs": [],
   "source": [
    "%load_ext memory_profiler"
   ]
  },
  {
   "cell_type": "code",
   "execution_count": 5,
   "metadata": {
    "collapsed": false
   },
   "outputs": [
    {
     "name": "stdout",
     "output_type": "stream",
     "text": [
      "\n",
      "\n",
      "*** Profile printout saved to text file mprof0. \n"
     ]
    }
   ],
   "source": [
    "%mprun -T mprof0 -f simulation.simulate simulation.simulate(50)"
   ]
  },
  {
   "cell_type": "code",
   "execution_count": 6,
   "metadata": {
    "collapsed": false
   },
   "outputs": [
    {
     "name": "stdout",
     "output_type": "stream",
     "text": [
      "\n",
      "\n",
      "*** Profile printout saved to text file mprof0. \n"
     ]
    }
   ],
   "source": [
    "%mprun -T mprof0 -f simulation.simulate simulation.simulate(500)"
   ]
  },
  {
   "cell_type": "code",
   "execution_count": 7,
   "metadata": {
    "collapsed": true
   },
   "outputs": [],
   "source": [
    "# chapter 4-5 不必要な配列コピーを削除するためのNumPy内部構造解説"
   ]
  },
  {
   "cell_type": "code",
   "execution_count": 8,
   "metadata": {
    "collapsed": true
   },
   "outputs": [],
   "source": [
    "import numpy as np"
   ]
  },
  {
   "cell_type": "code",
   "execution_count": 9,
   "metadata": {
    "collapsed": true
   },
   "outputs": [],
   "source": [
    "a = np.zeros(10)"
   ]
  },
  {
   "cell_type": "code",
   "execution_count": 10,
   "metadata": {
    "collapsed": true
   },
   "outputs": [],
   "source": [
    "def id(x):\n",
    "# 配列のメモリブロックのアドレスを返す\n",
    "    return x.__array_interface__['data'][0]"
   ]
  },
  {
   "cell_type": "code",
   "execution_count": 11,
   "metadata": {
    "collapsed": false
   },
   "outputs": [
    {
     "data": {
      "text/plain": [
       "(140655861334592, 140655861334600)"
      ]
     },
     "execution_count": 11,
     "metadata": {},
     "output_type": "execute_result"
    }
   ],
   "source": [
    "id(a), id(a[1:])\n",
    "# オフセットが異なればメモリ位置も異なる"
   ]
  },
  {
   "cell_type": "code",
   "execution_count": 12,
   "metadata": {
    "collapsed": false
   },
   "outputs": [],
   "source": [
    "# 2つの配列が同じバッファを共有しているのかを確かめるためのより汎用で厳密な方法\n",
    "\n",
    "def get_data_base(arr):\n",
    "    # 指定されたNumPy配列のデータを格納している配列のアドレスを求める\n",
    "    base = arr\n",
    "    while isinstance(base.base, np.ndarray):\n",
    "        base = base.base\n",
    "        \n",
    "    return base\n",
    "\n",
    "def arrays_share_data(x, y):\n",
    "    return get_data_base(x) is get_data_base(y)"
   ]
  },
  {
   "cell_type": "code",
   "execution_count": 13,
   "metadata": {
    "collapsed": false
   },
   "outputs": [
    {
     "name": "stdout",
     "output_type": "stream",
     "text": [
      "False True\n"
     ]
    }
   ],
   "source": [
    "print(arrays_share_data(a,a.copy()),\n",
    "     arrays_share_data(a,a[1:]))"
   ]
  },
  {
   "cell_type": "code",
   "execution_count": 14,
   "metadata": {
    "collapsed": false
   },
   "outputs": [
    {
     "data": {
      "text/plain": [
       "140655861071360"
      ]
     },
     "execution_count": 14,
     "metadata": {},
     "output_type": "execute_result"
    }
   ],
   "source": [
    "a = np.zeros(10); aid = id(a); aid"
   ]
  },
  {
   "cell_type": "code",
   "execution_count": 15,
   "metadata": {
    "collapsed": false
   },
   "outputs": [
    {
     "data": {
      "text/plain": [
       "False"
      ]
     },
     "execution_count": 15,
     "metadata": {},
     "output_type": "execute_result"
    }
   ],
   "source": [
    "b = a.copy(); id(b) == aid\n",
    "# 違うアドレスになる"
   ]
  },
  {
   "cell_type": "code",
   "execution_count": 16,
   "metadata": {
    "collapsed": false
   },
   "outputs": [
    {
     "data": {
      "text/plain": [
       "True"
      ]
     },
     "execution_count": 16,
     "metadata": {},
     "output_type": "execute_result"
    }
   ],
   "source": [
    "a *= 2; id(a) == aid\n",
    "# 同じアドレス、元の配列の内容が変更される"
   ]
  },
  {
   "cell_type": "code",
   "execution_count": 17,
   "metadata": {
    "collapsed": false
   },
   "outputs": [
    {
     "data": {
      "text/plain": [
       "False"
      ]
     },
     "execution_count": 17,
     "metadata": {},
     "output_type": "execute_result"
    }
   ],
   "source": [
    "a = a*2; id(a) == aid\n",
    "# 違うアドレス、元の配列が暗黙のうちにコピーされ新しい配列が作成される"
   ]
  },
  {
   "cell_type": "code",
   "execution_count": 18,
   "metadata": {
    "collapsed": false
   },
   "outputs": [
    {
     "name": "stdout",
     "output_type": "stream",
     "text": [
      "The slowest run took 4.59 times longer than the fastest. This could mean that an intermediate result is being cached.\n",
      "100 loops, best of 3: 8.55 ms per loop\n"
     ]
    }
   ],
   "source": [
    "%%timeit a = np.zeros(10000000)\n",
    "a *= 2\n",
    "# 変更、速い"
   ]
  },
  {
   "cell_type": "code",
   "execution_count": 19,
   "metadata": {
    "collapsed": false
   },
   "outputs": [
    {
     "name": "stdout",
     "output_type": "stream",
     "text": [
      "10 loops, best of 3: 25.7 ms per loop\n"
     ]
    }
   ],
   "source": [
    "%%timeit a = np.zeros(10000000)\n",
    "a = a*2\n",
    "# コピー、遅い"
   ]
  },
  {
   "cell_type": "code",
   "execution_count": 20,
   "metadata": {
    "collapsed": true
   },
   "outputs": [],
   "source": [
    "a = np.zeros((10, 10)); aid = id(a)"
   ]
  },
  {
   "cell_type": "code",
   "execution_count": 21,
   "metadata": {
    "collapsed": false
   },
   "outputs": [
    {
     "data": {
      "text/plain": [
       "True"
      ]
     },
     "execution_count": 21,
     "metadata": {},
     "output_type": "execute_result"
    }
   ],
   "source": [
    "b = a.reshape((1, -1)); id(b) == aid\n",
    "# 2次元配列の形状変更ではコピーが起こらないが、、"
   ]
  },
  {
   "cell_type": "code",
   "execution_count": 22,
   "metadata": {
    "collapsed": false
   },
   "outputs": [
    {
     "data": {
      "text/plain": [
       "False"
      ]
     },
     "execution_count": 22,
     "metadata": {},
     "output_type": "execute_result"
    }
   ],
   "source": [
    "c = a.T.reshape((1, -1)); id(c) == aid\n",
    "# 転置を伴う場合にはコピーが発生する"
   ]
  },
  {
   "cell_type": "code",
   "execution_count": 23,
   "metadata": {
    "collapsed": false
   },
   "outputs": [
    {
     "data": {
      "text/plain": [
       "False"
      ]
     },
     "execution_count": 23,
     "metadata": {},
     "output_type": "execute_result"
    }
   ],
   "source": [
    "d = a.flatten(); id(d) == aid\n",
    "# flattenは常に配列のコピーを返すが、、"
   ]
  },
  {
   "cell_type": "code",
   "execution_count": 24,
   "metadata": {
    "collapsed": false
   },
   "outputs": [
    {
     "data": {
      "text/plain": [
       "True"
      ]
     },
     "execution_count": 24,
     "metadata": {},
     "output_type": "execute_result"
    }
   ],
   "source": [
    "e = a.ravel(); id(e) == aid\n",
    "# ravelは必要な場合にだけコピーを行う"
   ]
  },
  {
   "cell_type": "code",
   "execution_count": 25,
   "metadata": {
    "collapsed": false
   },
   "outputs": [
    {
     "name": "stdout",
     "output_type": "stream",
     "text": [
      "The slowest run took 39.72 times longer than the fastest. This could mean that an intermediate result is being cached.\n",
      "1000000 loops, best of 3: 916 ns per loop\n"
     ]
    }
   ],
   "source": [
    "%timeit a.flatten()"
   ]
  },
  {
   "cell_type": "code",
   "execution_count": 26,
   "metadata": {
    "collapsed": false
   },
   "outputs": [
    {
     "name": "stdout",
     "output_type": "stream",
     "text": [
      "The slowest run took 18.90 times longer than the fastest. This could mean that an intermediate result is being cached.\n",
      "1000000 loops, best of 3: 335 ns per loop\n"
     ]
    }
   ],
   "source": [
    "%timeit a.ravel()"
   ]
  },
  {
   "cell_type": "code",
   "execution_count": 27,
   "metadata": {
    "collapsed": true
   },
   "outputs": [],
   "source": [
    "# ブロードキャストルール(2つの配列の形状が全く同じか、いずれかの次元長が1である場合に両者が互換であるとする)\n",
    "# により配列の形状が異なっていても直接計算できる。\n",
    "# reshapeやtileを使って形状を合わせる必要は必ずしもない。"
   ]
  },
  {
   "cell_type": "code",
   "execution_count": 28,
   "metadata": {
    "collapsed": true
   },
   "outputs": [],
   "source": [
    "n = 1000"
   ]
  },
  {
   "cell_type": "code",
   "execution_count": 29,
   "metadata": {
    "collapsed": false
   },
   "outputs": [],
   "source": [
    "a = np.arange(n)\n",
    "ac = a[:, np.newaxis] # 列ベクトル\n",
    "ar = a[np.newaxis, :] # 行ベクトル"
   ]
  },
  {
   "cell_type": "code",
   "execution_count": 30,
   "metadata": {
    "collapsed": false
   },
   "outputs": [
    {
     "name": "stdout",
     "output_type": "stream",
     "text": [
      "100 loops, best of 3: 12.7 ms per loop\n"
     ]
    }
   ],
   "source": [
    "% timeit np.tile(ac, (1, n)) * np.tile(ar, (n, 1))\n",
    "# タイリングを使って計算、遅い"
   ]
  },
  {
   "cell_type": "code",
   "execution_count": 31,
   "metadata": {
    "collapsed": false
   },
   "outputs": [
    {
     "name": "stdout",
     "output_type": "stream",
     "text": [
      "100 loops, best of 3: 3.07 ms per loop\n"
     ]
    }
   ],
   "source": [
    "%timeit ac * ar\n",
    "# ブロードキャストにより直接計算、速い"
   ]
  },
  {
   "cell_type": "code",
   "execution_count": 32,
   "metadata": {
    "collapsed": true
   },
   "outputs": [],
   "source": [
    "# 以下の2つの例のパフォーマンスの違いの理由は？\n",
    "# 答えは書いてない。NumPyの内部構造が行優先だから？？？"
   ]
  },
  {
   "cell_type": "code",
   "execution_count": 33,
   "metadata": {
    "collapsed": false
   },
   "outputs": [],
   "source": [
    "a = np.random.rand(5000, 5000)"
   ]
  },
  {
   "cell_type": "code",
   "execution_count": 34,
   "metadata": {
    "collapsed": false
   },
   "outputs": [
    {
     "name": "stdout",
     "output_type": "stream",
     "text": [
      "The slowest run took 7.59 times longer than the fastest. This could mean that an intermediate result is being cached.\n",
      "100000 loops, best of 3: 7.14 µs per loop\n"
     ]
    }
   ],
   "source": [
    "%timeit a[0,:].sum()\n",
    "# 速い"
   ]
  },
  {
   "cell_type": "code",
   "execution_count": 35,
   "metadata": {
    "collapsed": false
   },
   "outputs": [
    {
     "name": "stdout",
     "output_type": "stream",
     "text": [
      "10000 loops, best of 3: 77.7 µs per loop\n"
     ]
    }
   ],
   "source": [
    "%timeit a[:,0].sum()\n",
    "# 遅い"
   ]
  },
  {
   "cell_type": "code",
   "execution_count": null,
   "metadata": {
    "collapsed": true
   },
   "outputs": [],
   "source": []
  },
  {
   "cell_type": "code",
   "execution_count": 36,
   "metadata": {
    "collapsed": true
   },
   "outputs": [],
   "source": [
    "# chapter 4-6 NumPyのストライドトリック"
   ]
  },
  {
   "cell_type": "code",
   "execution_count": null,
   "metadata": {
    "collapsed": true
   },
   "outputs": [],
   "source": []
  },
  {
   "cell_type": "code",
   "execution_count": 38,
   "metadata": {
    "collapsed": false
   },
   "outputs": [
    {
     "data": {
      "text/plain": [
       "(8,)"
      ]
     },
     "execution_count": 38,
     "metadata": {},
     "output_type": "execute_result"
    }
   ],
   "source": [
    "x = np.zeros(10); x.strides"
   ]
  },
  {
   "cell_type": "code",
   "execution_count": 40,
   "metadata": {
    "collapsed": false
   },
   "outputs": [
    {
     "data": {
      "text/plain": [
       "(80, 8)"
      ]
     },
     "execution_count": 40,
     "metadata": {},
     "output_type": "execute_result"
    }
   ],
   "source": [
    "y =np.zeros((10, 10)); y.strides"
   ]
  },
  {
   "cell_type": "code",
   "execution_count": 41,
   "metadata": {
    "collapsed": true
   },
   "outputs": [],
   "source": [
    "n = 1000; a = np.arange(n)"
   ]
  },
  {
   "cell_type": "code",
   "execution_count": 47,
   "metadata": {
    "collapsed": true
   },
   "outputs": [],
   "source": [
    "b = np.lib.stride_tricks.as_strided(a, (n, n), (0, 8))"
   ]
  },
  {
   "cell_type": "code",
   "execution_count": 48,
   "metadata": {
    "collapsed": false
   },
   "outputs": [
    {
     "data": {
      "text/plain": [
       "array([[  0,   1,   2, ..., 997, 998, 999],\n",
       "       [  0,   1,   2, ..., 997, 998, 999],\n",
       "       [  0,   1,   2, ..., 997, 998, 999],\n",
       "       ..., \n",
       "       [  0,   1,   2, ..., 997, 998, 999],\n",
       "       [  0,   1,   2, ..., 997, 998, 999],\n",
       "       [  0,   1,   2, ..., 997, 998, 999]])"
      ]
     },
     "execution_count": 48,
     "metadata": {},
     "output_type": "execute_result"
    }
   ],
   "source": [
    "b"
   ]
  },
  {
   "cell_type": "code",
   "execution_count": 51,
   "metadata": {
    "collapsed": false
   },
   "outputs": [
    {
     "data": {
      "text/plain": [
       "(1000000, (1000, 1000), 8000000)"
      ]
     },
     "execution_count": 51,
     "metadata": {},
     "output_type": "execute_result"
    }
   ],
   "source": [
    "b.size, b.shape, b.nbytes"
   ]
  },
  {
   "cell_type": "code",
   "execution_count": 54,
   "metadata": {
    "collapsed": false
   },
   "outputs": [
    {
     "data": {
      "text/plain": [
       "dtype('int64')"
      ]
     },
     "execution_count": 54,
     "metadata": {},
     "output_type": "execute_result"
    }
   ],
   "source": [
    "b.dtype"
   ]
  },
  {
   "cell_type": "code",
   "execution_count": 55,
   "metadata": {
    "collapsed": false
   },
   "outputs": [
    {
     "name": "stdout",
     "output_type": "stream",
     "text": [
      "100 loops, best of 3: 3.07 ms per loop\n"
     ]
    }
   ],
   "source": [
    "%timeit b * b.T"
   ]
  },
  {
   "cell_type": "code",
   "execution_count": 57,
   "metadata": {
    "collapsed": false
   },
   "outputs": [
    {
     "name": "stdout",
     "output_type": "stream",
     "text": [
      "100 loops, best of 3: 12.8 ms per loop\n"
     ]
    }
   ],
   "source": [
    "timeit np.tile(a, (n, 1)) * np.tile(a[:, np.newaxis], (1, n))"
   ]
  },
  {
   "cell_type": "code",
   "execution_count": null,
   "metadata": {
    "collapsed": true
   },
   "outputs": [],
   "source": []
  },
  {
   "cell_type": "code",
   "execution_count": 58,
   "metadata": {
    "collapsed": true
   },
   "outputs": [],
   "source": [
    "# ストライドを使った移動平均の効率的計算アルゴリズム"
   ]
  },
  {
   "cell_type": "code",
   "execution_count": null,
   "metadata": {
    "collapsed": true
   },
   "outputs": [],
   "source": []
  },
  {
   "cell_type": "code",
   "execution_count": 89,
   "metadata": {
    "collapsed": false
   },
   "outputs": [],
   "source": [
    "import numpy as np\n",
    "from numpy.lib.stride_tricks import as_strided\n",
    "import matplotlib.pyplot as plt"
   ]
  },
  {
   "cell_type": "code",
   "execution_count": 75,
   "metadata": {
    "collapsed": false
   },
   "outputs": [],
   "source": [
    "n = 5; k = 2"
   ]
  },
  {
   "cell_type": "code",
   "execution_count": 76,
   "metadata": {
    "collapsed": true
   },
   "outputs": [],
   "source": [
    "a = np.linspace(1, n, n); aid = a"
   ]
  },
  {
   "cell_type": "code",
   "execution_count": 77,
   "metadata": {
    "collapsed": false
   },
   "outputs": [
    {
     "data": {
      "text/plain": [
       "array([[  1.00000000e+000,   2.00000000e+000,   3.00000000e+000,\n",
       "          4.00000000e+000,   5.00000000e+000],\n",
       "       [  2.00000000e+000,   3.00000000e+000,   4.00000000e+000,\n",
       "          5.00000000e+000,   4.17201348e-309]])"
      ]
     },
     "execution_count": 77,
     "metadata": {},
     "output_type": "execute_result"
    }
   ],
   "source": [
    "as_strided(a, (k, n), (8, 8))"
   ]
  },
  {
   "cell_type": "code",
   "execution_count": 78,
   "metadata": {
    "collapsed": false
   },
   "outputs": [
    {
     "data": {
      "text/plain": [
       "array([[ 1.,  2.,  3.,  4.],\n",
       "       [ 2.,  3.,  4.,  5.]])"
      ]
     },
     "execution_count": 78,
     "metadata": {},
     "output_type": "execute_result"
    }
   ],
   "source": [
    "as_strided(a, (k, n-k+1), (8, 8))"
   ]
  },
  {
   "cell_type": "code",
   "execution_count": 79,
   "metadata": {
    "collapsed": false
   },
   "outputs": [],
   "source": [
    "def shift1(x, k):\n",
    "    return np.vstack([x[i:n-k+i+1] for i in range(k)])"
   ]
  },
  {
   "cell_type": "code",
   "execution_count": 80,
   "metadata": {
    "collapsed": true
   },
   "outputs": [],
   "source": [
    "def shift2(x, k):\n",
    "    return as_strided(x, (k, n-k+1), (x.itemsize,)*2)"
   ]
  },
  {
   "cell_type": "code",
   "execution_count": 81,
   "metadata": {
    "collapsed": false
   },
   "outputs": [
    {
     "data": {
      "text/plain": [
       "(array([[ 1.,  2.,  3.,  4.],\n",
       "        [ 2.,  3.,  4.,  5.]]),\n",
       " array([False, False, False, False, False], dtype=bool))"
      ]
     },
     "execution_count": 81,
     "metadata": {},
     "output_type": "execute_result"
    }
   ],
   "source": [
    "b = shift1(a, k); b, id(b) == aid"
   ]
  },
  {
   "cell_type": "code",
   "execution_count": 82,
   "metadata": {
    "collapsed": false
   },
   "outputs": [
    {
     "data": {
      "text/plain": [
       "(array([[ 1.,  2.,  3.,  4.],\n",
       "        [ 2.,  3.,  4.,  5.]]),\n",
       " array([False, False, False, False, False], dtype=bool))"
      ]
     },
     "execution_count": 82,
     "metadata": {},
     "output_type": "execute_result"
    }
   ],
   "source": [
    "c = shift1(a, k); c, id(c) == aid"
   ]
  },
  {
   "cell_type": "code",
   "execution_count": 84,
   "metadata": {
    "collapsed": true
   },
   "outputs": [],
   "source": [
    "n, k = 100, 10\n",
    "t = np.linspace(0., 1., n)\n",
    "x = t + .1 * np.random.randn(n)"
   ]
  },
  {
   "cell_type": "code",
   "execution_count": 86,
   "metadata": {
    "collapsed": true
   },
   "outputs": [],
   "source": [
    "y = shift2(x, k)\n",
    "x_avg = y.mean(axis=0)"
   ]
  },
  {
   "cell_type": "code",
   "execution_count": 90,
   "metadata": {
    "collapsed": false,
    "scrolled": true
   },
   "outputs": [
    {
     "data": {
      "text/plain": [
       "[<matplotlib.lines.Line2D at 0x122759080>]"
      ]
     },
     "execution_count": 90,
     "metadata": {},
     "output_type": "execute_result"
    },
    {
     "data": {
      "image/png": "[encoded data removed]",
      "text/plain": [
       "<matplotlib.figure.Figure at 0x1226924a8>"
      ]
     },
     "metadata": {},
     "output_type": "display_data"
    }
   ],
   "source": [
    "%matplotlib inline\n",
    "f = plt.figure()\n",
    "plt.plot(x[:-k+1], '-k');\n",
    "plt.plot(x_avg, '-r')"
   ]
  },
  {
   "cell_type": "code",
   "execution_count": 97,
   "metadata": {
    "collapsed": false
   },
   "outputs": [
    {
     "name": "stdout",
     "output_type": "stream",
     "text": [
      "10000 loops, best of 3: 36 µs per loop\n"
     ]
    }
   ],
   "source": [
    "%timeit shift1(x, k)"
   ]
  },
  {
   "cell_type": "code",
   "execution_count": 98,
   "metadata": {
    "collapsed": false
   },
   "outputs": [
    {
     "name": "stdout",
     "output_type": "stream",
     "text": [
      "100000 loops, best of 3: 14.8 µs per loop\n"
     ]
    }
   ],
   "source": [
    "%%timeit y = shift1(x, k)\n",
    "z = y.mean(axis=0)"
   ]
  },
  {
   "cell_type": "code",
   "execution_count": 99,
   "metadata": {
    "collapsed": false
   },
   "outputs": [
    {
     "name": "stdout",
     "output_type": "stream",
     "text": [
      "100000 loops, best of 3: 13.9 µs per loop\n"
     ]
    }
   ],
   "source": [
    "%timeit shift2(x, k)"
   ]
  },
  {
   "cell_type": "code",
   "execution_count": 100,
   "metadata": {
    "collapsed": false
   },
   "outputs": [
    {
     "name": "stdout",
     "output_type": "stream",
     "text": [
      "The slowest run took 4.50 times longer than the fastest. This could mean that an intermediate result is being cached.\n",
      "100000 loops, best of 3: 15.4 µs per loop\n"
     ]
    }
   ],
   "source": [
    "%%timeit y = shift2(x, k)\n",
    "z = y.mean(axis=0)"
   ]
  },
  {
   "cell_type": "code",
   "execution_count": 110,
   "metadata": {
    "collapsed": false
   },
   "outputs": [
    {
     "data": {
      "image/png": "[encoded data removed]",
      "text/plain": [
       "<matplotlib.figure.Figure at 0x125360048>"
      ]
     },
     "metadata": {},
     "output_type": "display_data"
    }
   ],
   "source": []
  },
  {
   "cell_type": "code",
   "execution_count": 106,
   "metadata": {
    "collapsed": false
   },
   "outputs": [
    {
     "data": {
      "text/plain": [
       "array([[ 0.02912065,  0.05067211, -0.10739724,  0.23186   , -0.01357973,\n",
       "         0.14503045,  0.19504712,  0.06260704,  0.0864429 , -0.03488359,\n",
       "         0.16767392,  0.21059692, -0.07812113,  0.18060184,  0.08838245,\n",
       "         0.04680946,  0.22979751,  0.20639788,  0.17217983,  0.2086519 ,\n",
       "         0.38399341,  0.15274384,  0.22718083,  0.36024491,  0.27869906,\n",
       "         0.18242157,  0.33738855,  0.18518483,  0.44256993,  0.41156068,\n",
       "         0.17145083,  0.21428924,  0.39722333,  0.43467019,  0.17578976,\n",
       "         0.41142522,  0.26058105,  0.42655566,  0.39432622,  0.32935514,\n",
       "         0.46545148,  0.23695166,  0.27619651,  0.48452484,  0.52250581,\n",
       "         0.47745778,  0.49378717,  0.50753387,  0.60762513,  0.42160222,\n",
       "         0.54949118,  0.45718628,  0.76559366,  0.58741169,  0.59790528,\n",
       "         0.55555531,  0.55471182,  0.69437059,  0.45557998,  0.45730578,\n",
       "         0.65268418,  0.52473007,  0.65454522,  0.60096862,  0.82922958,\n",
       "         0.64906179,  0.59697159,  0.68180124,  0.7029211 ,  0.78699746,\n",
       "         0.67471853,  0.74641006,  0.72734172,  0.82190008,  0.7701153 ,\n",
       "         1.03443676,  0.8547649 ,  0.76176022,  0.83763782,  0.92850796,\n",
       "         0.71650355,  0.69443513,  0.94840574,  0.8329459 ,  0.7791859 ,\n",
       "         0.71247214,  0.95846916,  0.69238143,  0.91439449,  0.76894105,\n",
       "         0.83275143],\n",
       "       [ 0.05067211, -0.10739724,  0.23186   , -0.01357973,  0.14503045,\n",
       "         0.19504712,  0.06260704,  0.0864429 , -0.03488359,  0.16767392,\n",
       "         0.21059692, -0.07812113,  0.18060184,  0.08838245,  0.04680946,\n",
       "         0.22979751,  0.20639788,  0.17217983,  0.2086519 ,  0.38399341,\n",
       "         0.15274384,  0.22718083,  0.36024491,  0.27869906,  0.18242157,\n",
       "         0.33738855,  0.18518483,  0.44256993,  0.41156068,  0.17145083,\n",
       "         0.21428924,  0.39722333,  0.43467019,  0.17578976,  0.41142522,\n",
       "         0.26058105,  0.42655566,  0.39432622,  0.32935514,  0.46545148,\n",
       "         0.23695166,  0.27619651,  0.48452484,  0.52250581,  0.47745778,\n",
       "         0.49378717,  0.50753387,  0.60762513,  0.42160222,  0.54949118,\n",
       "         0.45718628,  0.76559366,  0.58741169,  0.59790528,  0.55555531,\n",
       "         0.55471182,  0.69437059,  0.45557998,  0.45730578,  0.65268418,\n",
       "         0.52473007,  0.65454522,  0.60096862,  0.82922958,  0.64906179,\n",
       "         0.59697159,  0.68180124,  0.7029211 ,  0.78699746,  0.67471853,\n",
       "         0.74641006,  0.72734172,  0.82190008,  0.7701153 ,  1.03443676,\n",
       "         0.8547649 ,  0.76176022,  0.83763782,  0.92850796,  0.71650355,\n",
       "         0.69443513,  0.94840574,  0.8329459 ,  0.7791859 ,  0.71247214,\n",
       "         0.95846916,  0.69238143,  0.91439449,  0.76894105,  0.83275143,\n",
       "         0.9728901 ],\n",
       "       [-0.10739724,  0.23186   , -0.01357973,  0.14503045,  0.19504712,\n",
       "         0.06260704,  0.0864429 , -0.03488359,  0.16767392,  0.21059692,\n",
       "        -0.07812113,  0.18060184,  0.08838245,  0.04680946,  0.22979751,\n",
       "         0.20639788,  0.17217983,  0.2086519 ,  0.38399341,  0.15274384,\n",
       "         0.22718083,  0.36024491,  0.27869906,  0.18242157,  0.33738855,\n",
       "         0.18518483,  0.44256993,  0.41156068,  0.17145083,  0.21428924,\n",
       "         0.39722333,  0.43467019,  0.17578976,  0.41142522,  0.26058105,\n",
       "         0.42655566,  0.39432622,  0.32935514,  0.46545148,  0.23695166,\n",
       "         0.27619651,  0.48452484,  0.52250581,  0.47745778,  0.49378717,\n",
       "         0.50753387,  0.60762513,  0.42160222,  0.54949118,  0.45718628,\n",
       "         0.76559366,  0.58741169,  0.59790528,  0.55555531,  0.55471182,\n",
       "         0.69437059,  0.45557998,  0.45730578,  0.65268418,  0.52473007,\n",
       "         0.65454522,  0.60096862,  0.82922958,  0.64906179,  0.59697159,\n",
       "         0.68180124,  0.7029211 ,  0.78699746,  0.67471853,  0.74641006,\n",
       "         0.72734172,  0.82190008,  0.7701153 ,  1.03443676,  0.8547649 ,\n",
       "         0.76176022,  0.83763782,  0.92850796,  0.71650355,  0.69443513,\n",
       "         0.94840574,  0.8329459 ,  0.7791859 ,  0.71247214,  0.95846916,\n",
       "         0.69238143,  0.91439449,  0.76894105,  0.83275143,  0.9728901 ,\n",
       "         1.0614569 ],\n",
       "       [ 0.23186   , -0.01357973,  0.14503045,  0.19504712,  0.06260704,\n",
       "         0.0864429 , -0.03488359,  0.16767392,  0.21059692, -0.07812113,\n",
       "         0.18060184,  0.08838245,  0.04680946,  0.22979751,  0.20639788,\n",
       "         0.17217983,  0.2086519 ,  0.38399341,  0.15274384,  0.22718083,\n",
       "         0.36024491,  0.27869906,  0.18242157,  0.33738855,  0.18518483,\n",
       "         0.44256993,  0.41156068,  0.17145083,  0.21428924,  0.39722333,\n",
       "         0.43467019,  0.17578976,  0.41142522,  0.26058105,  0.42655566,\n",
       "         0.39432622,  0.32935514,  0.46545148,  0.23695166,  0.27619651,\n",
       "         0.48452484,  0.52250581,  0.47745778,  0.49378717,  0.50753387,\n",
       "         0.60762513,  0.42160222,  0.54949118,  0.45718628,  0.76559366,\n",
       "         0.58741169,  0.59790528,  0.55555531,  0.55471182,  0.69437059,\n",
       "         0.45557998,  0.45730578,  0.65268418,  0.52473007,  0.65454522,\n",
       "         0.60096862,  0.82922958,  0.64906179,  0.59697159,  0.68180124,\n",
       "         0.7029211 ,  0.78699746,  0.67471853,  0.74641006,  0.72734172,\n",
       "         0.82190008,  0.7701153 ,  1.03443676,  0.8547649 ,  0.76176022,\n",
       "         0.83763782,  0.92850796,  0.71650355,  0.69443513,  0.94840574,\n",
       "         0.8329459 ,  0.7791859 ,  0.71247214,  0.95846916,  0.69238143,\n",
       "         0.91439449,  0.76894105,  0.83275143,  0.9728901 ,  1.0614569 ,\n",
       "         0.9508362 ],\n",
       "       [-0.01357973,  0.14503045,  0.19504712,  0.06260704,  0.0864429 ,\n",
       "        -0.03488359,  0.16767392,  0.21059692, -0.07812113,  0.18060184,\n",
       "         0.08838245,  0.04680946,  0.22979751,  0.20639788,  0.17217983,\n",
       "         0.2086519 ,  0.38399341,  0.15274384,  0.22718083,  0.36024491,\n",
       "         0.27869906,  0.18242157,  0.33738855,  0.18518483,  0.44256993,\n",
       "         0.41156068,  0.17145083,  0.21428924,  0.39722333,  0.43467019,\n",
       "         0.17578976,  0.41142522,  0.26058105,  0.42655566,  0.39432622,\n",
       "         0.32935514,  0.46545148,  0.23695166,  0.27619651,  0.48452484,\n",
       "         0.52250581,  0.47745778,  0.49378717,  0.50753387,  0.60762513,\n",
       "         0.42160222,  0.54949118,  0.45718628,  0.76559366,  0.58741169,\n",
       "         0.59790528,  0.55555531,  0.55471182,  0.69437059,  0.45557998,\n",
       "         0.45730578,  0.65268418,  0.52473007,  0.65454522,  0.60096862,\n",
       "         0.82922958,  0.64906179,  0.59697159,  0.68180124,  0.7029211 ,\n",
       "         0.78699746,  0.67471853,  0.74641006,  0.72734172,  0.82190008,\n",
       "         0.7701153 ,  1.03443676,  0.8547649 ,  0.76176022,  0.83763782,\n",
       "         0.92850796,  0.71650355,  0.69443513,  0.94840574,  0.8329459 ,\n",
       "         0.7791859 ,  0.71247214,  0.95846916,  0.69238143,  0.91439449,\n",
       "         0.76894105,  0.83275143,  0.9728901 ,  1.0614569 ,  0.9508362 ,\n",
       "         0.89189282],\n",
       "       [ 0.14503045,  0.19504712,  0.06260704,  0.0864429 , -0.03488359,\n",
       "         0.16767392,  0.21059692, -0.07812113,  0.18060184,  0.08838245,\n",
       "         0.04680946,  0.22979751,  0.20639788,  0.17217983,  0.2086519 ,\n",
       "         0.38399341,  0.15274384,  0.22718083,  0.36024491,  0.27869906,\n",
       "         0.18242157,  0.33738855,  0.18518483,  0.44256993,  0.41156068,\n",
       "         0.17145083,  0.21428924,  0.39722333,  0.43467019,  0.17578976,\n",
       "         0.41142522,  0.26058105,  0.42655566,  0.39432622,  0.32935514,\n",
       "         0.46545148,  0.23695166,  0.27619651,  0.48452484,  0.52250581,\n",
       "         0.47745778,  0.49378717,  0.50753387,  0.60762513,  0.42160222,\n",
       "         0.54949118,  0.45718628,  0.76559366,  0.58741169,  0.59790528,\n",
       "         0.55555531,  0.55471182,  0.69437059,  0.45557998,  0.45730578,\n",
       "         0.65268418,  0.52473007,  0.65454522,  0.60096862,  0.82922958,\n",
       "         0.64906179,  0.59697159,  0.68180124,  0.7029211 ,  0.78699746,\n",
       "         0.67471853,  0.74641006,  0.72734172,  0.82190008,  0.7701153 ,\n",
       "         1.03443676,  0.8547649 ,  0.76176022,  0.83763782,  0.92850796,\n",
       "         0.71650355,  0.69443513,  0.94840574,  0.8329459 ,  0.7791859 ,\n",
       "         0.71247214,  0.95846916,  0.69238143,  0.91439449,  0.76894105,\n",
       "         0.83275143,  0.9728901 ,  1.0614569 ,  0.9508362 ,  0.89189282,\n",
       "         0.87023627],\n",
       "       [ 0.19504712,  0.06260704,  0.0864429 , -0.03488359,  0.16767392,\n",
       "         0.21059692, -0.07812113,  0.18060184,  0.08838245,  0.04680946,\n",
       "         0.22979751,  0.20639788,  0.17217983,  0.2086519 ,  0.38399341,\n",
       "         0.15274384,  0.22718083,  0.36024491,  0.27869906,  0.18242157,\n",
       "         0.33738855,  0.18518483,  0.44256993,  0.41156068,  0.17145083,\n",
       "         0.21428924,  0.39722333,  0.43467019,  0.17578976,  0.41142522,\n",
       "         0.26058105,  0.42655566,  0.39432622,  0.32935514,  0.46545148,\n",
       "         0.23695166,  0.27619651,  0.48452484,  0.52250581,  0.47745778,\n",
       "         0.49378717,  0.50753387,  0.60762513,  0.42160222,  0.54949118,\n",
       "         0.45718628,  0.76559366,  0.58741169,  0.59790528,  0.55555531,\n",
       "         0.55471182,  0.69437059,  0.45557998,  0.45730578,  0.65268418,\n",
       "         0.52473007,  0.65454522,  0.60096862,  0.82922958,  0.64906179,\n",
       "         0.59697159,  0.68180124,  0.7029211 ,  0.78699746,  0.67471853,\n",
       "         0.74641006,  0.72734172,  0.82190008,  0.7701153 ,  1.03443676,\n",
       "         0.8547649 ,  0.76176022,  0.83763782,  0.92850796,  0.71650355,\n",
       "         0.69443513,  0.94840574,  0.8329459 ,  0.7791859 ,  0.71247214,\n",
       "         0.95846916,  0.69238143,  0.91439449,  0.76894105,  0.83275143,\n",
       "         0.9728901 ,  1.0614569 ,  0.9508362 ,  0.89189282,  0.87023627,\n",
       "         0.9703613 ],\n",
       "       [ 0.06260704,  0.0864429 , -0.03488359,  0.16767392,  0.21059692,\n",
       "        -0.07812113,  0.18060184,  0.08838245,  0.04680946,  0.22979751,\n",
       "         0.20639788,  0.17217983,  0.2086519 ,  0.38399341,  0.15274384,\n",
       "         0.22718083,  0.36024491,  0.27869906,  0.18242157,  0.33738855,\n",
       "         0.18518483,  0.44256993,  0.41156068,  0.17145083,  0.21428924,\n",
       "         0.39722333,  0.43467019,  0.17578976,  0.41142522,  0.26058105,\n",
       "         0.42655566,  0.39432622,  0.32935514,  0.46545148,  0.23695166,\n",
       "         0.27619651,  0.48452484,  0.52250581,  0.47745778,  0.49378717,\n",
       "         0.50753387,  0.60762513,  0.42160222,  0.54949118,  0.45718628,\n",
       "         0.76559366,  0.58741169,  0.59790528,  0.55555531,  0.55471182,\n",
       "         0.69437059,  0.45557998,  0.45730578,  0.65268418,  0.52473007,\n",
       "         0.65454522,  0.60096862,  0.82922958,  0.64906179,  0.59697159,\n",
       "         0.68180124,  0.7029211 ,  0.78699746,  0.67471853,  0.74641006,\n",
       "         0.72734172,  0.82190008,  0.7701153 ,  1.03443676,  0.8547649 ,\n",
       "         0.76176022,  0.83763782,  0.92850796,  0.71650355,  0.69443513,\n",
       "         0.94840574,  0.8329459 ,  0.7791859 ,  0.71247214,  0.95846916,\n",
       "         0.69238143,  0.91439449,  0.76894105,  0.83275143,  0.9728901 ,\n",
       "         1.0614569 ,  0.9508362 ,  0.89189282,  0.87023627,  0.9703613 ,\n",
       "         1.07919045],\n",
       "       [ 0.0864429 , -0.03488359,  0.16767392,  0.21059692, -0.07812113,\n",
       "         0.18060184,  0.08838245,  0.04680946,  0.22979751,  0.20639788,\n",
       "         0.17217983,  0.2086519 ,  0.38399341,  0.15274384,  0.22718083,\n",
       "         0.36024491,  0.27869906,  0.18242157,  0.33738855,  0.18518483,\n",
       "         0.44256993,  0.41156068,  0.17145083,  0.21428924,  0.39722333,\n",
       "         0.43467019,  0.17578976,  0.41142522,  0.26058105,  0.42655566,\n",
       "         0.39432622,  0.32935514,  0.46545148,  0.23695166,  0.27619651,\n",
       "         0.48452484,  0.52250581,  0.47745778,  0.49378717,  0.50753387,\n",
       "         0.60762513,  0.42160222,  0.54949118,  0.45718628,  0.76559366,\n",
       "         0.58741169,  0.59790528,  0.55555531,  0.55471182,  0.69437059,\n",
       "         0.45557998,  0.45730578,  0.65268418,  0.52473007,  0.65454522,\n",
       "         0.60096862,  0.82922958,  0.64906179,  0.59697159,  0.68180124,\n",
       "         0.7029211 ,  0.78699746,  0.67471853,  0.74641006,  0.72734172,\n",
       "         0.82190008,  0.7701153 ,  1.03443676,  0.8547649 ,  0.76176022,\n",
       "         0.83763782,  0.92850796,  0.71650355,  0.69443513,  0.94840574,\n",
       "         0.8329459 ,  0.7791859 ,  0.71247214,  0.95846916,  0.69238143,\n",
       "         0.91439449,  0.76894105,  0.83275143,  0.9728901 ,  1.0614569 ,\n",
       "         0.9508362 ,  0.89189282,  0.87023627,  0.9703613 ,  1.07919045,\n",
       "         1.02807398],\n",
       "       [-0.03488359,  0.16767392,  0.21059692, -0.07812113,  0.18060184,\n",
       "         0.08838245,  0.04680946,  0.22979751,  0.20639788,  0.17217983,\n",
       "         0.2086519 ,  0.38399341,  0.15274384,  0.22718083,  0.36024491,\n",
       "         0.27869906,  0.18242157,  0.33738855,  0.18518483,  0.44256993,\n",
       "         0.41156068,  0.17145083,  0.21428924,  0.39722333,  0.43467019,\n",
       "         0.17578976,  0.41142522,  0.26058105,  0.42655566,  0.39432622,\n",
       "         0.32935514,  0.46545148,  0.23695166,  0.27619651,  0.48452484,\n",
       "         0.52250581,  0.47745778,  0.49378717,  0.50753387,  0.60762513,\n",
       "         0.42160222,  0.54949118,  0.45718628,  0.76559366,  0.58741169,\n",
       "         0.59790528,  0.55555531,  0.55471182,  0.69437059,  0.45557998,\n",
       "         0.45730578,  0.65268418,  0.52473007,  0.65454522,  0.60096862,\n",
       "         0.82922958,  0.64906179,  0.59697159,  0.68180124,  0.7029211 ,\n",
       "         0.78699746,  0.67471853,  0.74641006,  0.72734172,  0.82190008,\n",
       "         0.7701153 ,  1.03443676,  0.8547649 ,  0.76176022,  0.83763782,\n",
       "         0.92850796,  0.71650355,  0.69443513,  0.94840574,  0.8329459 ,\n",
       "         0.7791859 ,  0.71247214,  0.95846916,  0.69238143,  0.91439449,\n",
       "         0.76894105,  0.83275143,  0.9728901 ,  1.0614569 ,  0.9508362 ,\n",
       "         0.89189282,  0.87023627,  0.9703613 ,  1.07919045,  1.02807398,\n",
       "         0.87729783]])"
      ]
     },
     "execution_count": 106,
     "metadata": {},
     "output_type": "execute_result"
    }
   ],
   "source": [
    "y"
   ]
  },
  {
   "cell_type": "code",
   "execution_count": null,
   "metadata": {
    "collapsed": true
   },
   "outputs": [],
   "source": []
  }
 ],
 "metadata": {
  "kernelspec": {
   "display_name": "Python 3",
   "language": "python",
   "name": "python3"
  },
  "language_info": {
   "codemirror_mode": {
    "name": "ipython",
    "version": 3
   },
   "file_extension": ".py",
   "mimetype": "text/x-python",
   "name": "python",
   "nbconvert_exporter": "python",
   "pygments_lexer": "ipython3",
   "version": "3.6.0"
  }
 },
 "nbformat": 4,
 "nbformat_minor": 2
}
